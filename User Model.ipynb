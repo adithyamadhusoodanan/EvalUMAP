{
 "cells": [
  {
   "cell_type": "code",
   "execution_count": 1,
   "metadata": {},
   "outputs": [],
   "source": [
    "import gym\n",
    "import random\n",
    "import pandas as pd\n",
    "%matplotlib inline"
   ]
  },
  {
   "cell_type": "code",
   "execution_count": 2,
   "metadata": {
    "scrolled": true
   },
   "outputs": [
    {
     "name": "stdout",
     "output_type": "stream",
     "text": [
      "EvalUMAP1-v0 environment\n"
     ]
    }
   ],
   "source": [
    "env = gym.make('gym_push:evalumap1-v0')"
   ]
  },
  {
   "cell_type": "code",
   "execution_count": 3,
   "metadata": {},
   "outputs": [],
   "source": [
    "train_contexts, train_notifications, train_engagements = env.request_data()"
   ]
  },
  {
   "cell_type": "code",
   "execution_count": 4,
   "metadata": {},
   "outputs": [],
   "source": [
    "testing_contexts = env.request_data(test=True)"
   ]
  },
  {
   "cell_type": "code",
   "execution_count": 5,
   "metadata": {},
   "outputs": [],
   "source": [
    "x=train_notifications.iloc[:,[5,7,8]]"
   ]
  },
  {
   "cell_type": "code",
   "execution_count": 6,
   "metadata": {},
   "outputs": [],
   "source": [
    "# Categorical boolean mask\n",
    "categorical_feature_mask = train_contexts.dtypes==object\n",
    "# filter categorical columns using mask and turn it into a list\n",
    "categorical_cols = train_contexts.columns[categorical_feature_mask].tolist()"
   ]
  },
  {
   "cell_type": "code",
   "execution_count": 7,
   "metadata": {},
   "outputs": [],
   "source": [
    "import category_encoders as ce\n",
    "ce_ordinal = ce.OrdinalEncoder(cols=categorical_cols)\n",
    "# fit and transform and you will get the encoded data\n",
    "testing_contexts=ce_ordinal.fit_transform(testing_contexts)\n",
    "train_contexts=ce_ordinal.fit_transform(train_contexts)"
   ]
  },
  {
   "cell_type": "code",
   "execution_count": 8,
   "metadata": {},
   "outputs": [
    {
     "data": {
      "text/plain": [
       "DecisionTreeClassifier(class_weight=None, criterion='gini', max_depth=None,\n",
       "                       max_features=None, max_leaf_nodes=None,\n",
       "                       min_impurity_decrease=0.0, min_impurity_split=None,\n",
       "                       min_samples_leaf=1, min_samples_split=2,\n",
       "                       min_weight_fraction_leaf=0.0, presort=False,\n",
       "                       random_state=1, splitter='best')"
      ]
     },
     "execution_count": 8,
     "metadata": {},
     "output_type": "execute_result"
    }
   ],
   "source": [
    "from sklearn.tree import DecisionTreeClassifier\n",
    "mdl = DecisionTreeClassifier(random_state=1)\n",
    "mdl.fit(train_contexts, x)"
   ]
  },
  {
   "cell_type": "code",
   "execution_count": 9,
   "metadata": {},
   "outputs": [],
   "source": [
    "pred1=mdl.predict(testing_contexts)\n"
   ]
  },
  {
   "cell_type": "code",
   "execution_count": 10,
   "metadata": {},
   "outputs": [],
   "source": [
    "pred1 = pd.DataFrame(pred1)"
   ]
  },
  {
   "cell_type": "code",
   "execution_count": 11,
   "metadata": {},
   "outputs": [],
   "source": [
    "train_contexts=pd.concat([train_contexts, x], axis=1)"
   ]
  },
  {
   "cell_type": "code",
   "execution_count": 12,
   "metadata": {},
   "outputs": [],
   "source": [
    "# Categorical boolean mask\n",
    "categorical_feature_mask = train_contexts.dtypes==object\n",
    "# filter categorical columns using mask and turn it into a list\n",
    "categorical_cols = train_contexts.columns[categorical_feature_mask].tolist()"
   ]
  },
  {
   "cell_type": "code",
   "execution_count": 13,
   "metadata": {},
   "outputs": [],
   "source": [
    "import category_encoders as ce\n",
    "ce_ordinal = ce.OrdinalEncoder(cols=categorical_cols)\n",
    "# fit and transform and you will get the encoded data\n",
    "train_contexts=ce_ordinal.fit_transform(train_contexts)"
   ]
  },
  {
   "cell_type": "code",
   "execution_count": 14,
   "metadata": {},
   "outputs": [],
   "source": [
    "x=train_notifications.iloc[:,[1,2,3,4]]\n"
   ]
  },
  {
   "cell_type": "code",
   "execution_count": 15,
   "metadata": {},
   "outputs": [],
   "source": [
    "testing_contexts=pd.concat([testing_contexts, pred1], axis=1)"
   ]
  },
  {
   "cell_type": "code",
   "execution_count": 16,
   "metadata": {},
   "outputs": [],
   "source": [
    "# Categorical boolean mask\n",
    "categorical_feature_mask = testing_contexts.dtypes==object\n",
    "# filter categorical columns using mask and turn it into a list\n",
    "categorical_cols = testing_contexts.columns[categorical_feature_mask].tolist()\n",
    "\n",
    "import category_encoders as ce\n",
    "ce_ordinal = ce.OrdinalEncoder(cols=categorical_cols)\n",
    "# fit and transform and you will get the encoded data\n",
    "testing_contexts=ce_ordinal.fit_transform(testing_contexts)"
   ]
  },
  {
   "cell_type": "code",
   "execution_count": 17,
   "metadata": {},
   "outputs": [
    {
     "data": {
      "text/plain": [
       "DecisionTreeClassifier(class_weight=None, criterion='gini', max_depth=None,\n",
       "                       max_features=None, max_leaf_nodes=None,\n",
       "                       min_impurity_decrease=0.0, min_impurity_split=None,\n",
       "                       min_samples_leaf=1, min_samples_split=2,\n",
       "                       min_weight_fraction_leaf=0.0, presort=False,\n",
       "                       random_state=1, splitter='best')"
      ]
     },
     "execution_count": 17,
     "metadata": {},
     "output_type": "execute_result"
    }
   ],
   "source": [
    "from sklearn.tree import DecisionTreeClassifier\n",
    "mdl = DecisionTreeClassifier(random_state=1)\n",
    "mdl.fit(train_contexts, x)"
   ]
  },
  {
   "cell_type": "code",
   "execution_count": 18,
   "metadata": {},
   "outputs": [],
   "source": [
    "pred2=mdl.predict(testing_contexts)\n",
    "pred2=pd.DataFrame(pred2)"
   ]
  },
  {
   "cell_type": "code",
   "execution_count": 19,
   "metadata": {},
   "outputs": [],
   "source": [
    "train_contexts=pd.concat([train_contexts, x], axis=1)"
   ]
  },
  {
   "cell_type": "code",
   "execution_count": 20,
   "metadata": {},
   "outputs": [],
   "source": [
    "# Categorical boolean mask\n",
    "categorical_feature_mask = train_contexts.dtypes==object\n",
    "# filter categorical columns using mask and turn it into a list\n",
    "categorical_cols = train_contexts.columns[categorical_feature_mask].tolist()\n",
    "\n",
    "import category_encoders as ce\n",
    "ce_ordinal = ce.OrdinalEncoder(cols=categorical_cols)\n",
    "# fit and transform and you will get the encoded data\n",
    "train_contexts=ce_ordinal.fit_transform(train_contexts)"
   ]
  },
  {
   "cell_type": "code",
   "execution_count": 21,
   "metadata": {},
   "outputs": [],
   "source": [
    "testing_contexts=pd.concat([testing_contexts, pred2], axis=1)"
   ]
  },
  {
   "cell_type": "code",
   "execution_count": 22,
   "metadata": {},
   "outputs": [],
   "source": [
    "testing_contexts.columns=[train_contexts.columns]"
   ]
  },
  {
   "cell_type": "code",
   "execution_count": 23,
   "metadata": {},
   "outputs": [],
   "source": [
    "# Categorical boolean mask\n",
    "categorical_feature_mask = testing_contexts.dtypes==object\n",
    "# filter categorical columns using mask and turn it into a list\n",
    "categorical_cols = testing_contexts.columns[categorical_feature_mask].tolist()\n",
    "\n",
    "import category_encoders as ce\n",
    "ce_ordinal = ce.OrdinalEncoder(cols=categorical_cols)\n",
    "# fit and transform and you will get the encoded data\n",
    "testing_contexts=ce_ordinal.fit_transform(testing_contexts)"
   ]
  },
  {
   "cell_type": "code",
   "execution_count": 24,
   "metadata": {},
   "outputs": [],
   "source": [
    "x=train_notifications.iloc[:,[0,6]]\n"
   ]
  },
  {
   "cell_type": "code",
   "execution_count": 25,
   "metadata": {},
   "outputs": [
    {
     "data": {
      "text/plain": [
       "DecisionTreeClassifier(class_weight=None, criterion='gini', max_depth=None,\n",
       "                       max_features=None, max_leaf_nodes=None,\n",
       "                       min_impurity_decrease=0.0, min_impurity_split=None,\n",
       "                       min_samples_leaf=1, min_samples_split=2,\n",
       "                       min_weight_fraction_leaf=0.0, presort=False,\n",
       "                       random_state=1, splitter='best')"
      ]
     },
     "execution_count": 25,
     "metadata": {},
     "output_type": "execute_result"
    }
   ],
   "source": [
    "from sklearn.tree import DecisionTreeClassifier\n",
    "mdl = DecisionTreeClassifier(random_state=1)\n",
    "mdl.fit(train_contexts, x)"
   ]
  },
  {
   "cell_type": "code",
   "execution_count": 26,
   "metadata": {},
   "outputs": [],
   "source": [
    "pred3=mdl.predict(testing_contexts)\n",
    "pred3=pd.DataFrame(pred3)"
   ]
  },
  {
   "cell_type": "code",
   "execution_count": 27,
   "metadata": {},
   "outputs": [],
   "source": [
    "pred=pd.concat(([pred3[0],pred2,pred1[0],pred3[1],pred1[1],pred1[2]]), axis=1)"
   ]
  },
  {
   "cell_type": "code",
   "execution_count": 28,
   "metadata": {},
   "outputs": [
    {
     "data": {
      "text/html": [
       "<div>\n",
       "<style scoped>\n",
       "    .dataframe tbody tr th:only-of-type {\n",
       "        vertical-align: middle;\n",
       "    }\n",
       "\n",
       "    .dataframe tbody tr th {\n",
       "        vertical-align: top;\n",
       "    }\n",
       "\n",
       "    .dataframe thead th {\n",
       "        text-align: right;\n",
       "    }\n",
       "</style>\n",
       "<table border=\"1\" class=\"dataframe\">\n",
       "  <thead>\n",
       "    <tr style=\"text-align: right;\">\n",
       "      <th></th>\n",
       "      <th>appPackage</th>\n",
       "      <th>category</th>\n",
       "      <th>ledARGB</th>\n",
       "      <th>priority</th>\n",
       "      <th>vibrate</th>\n",
       "      <th>visibility</th>\n",
       "      <th>subject</th>\n",
       "      <th>enticement</th>\n",
       "      <th>sentiment</th>\n",
       "    </tr>\n",
       "  </thead>\n",
       "  <tbody>\n",
       "    <tr>\n",
       "      <td>0</td>\n",
       "      <td>com.revolut.revolut</td>\n",
       "      <td>service</td>\n",
       "      <td>green</td>\n",
       "      <td>max</td>\n",
       "      <td>0200200200</td>\n",
       "      <td>private</td>\n",
       "      <td>unknown</td>\n",
       "      <td>high</td>\n",
       "      <td>high</td>\n",
       "    </tr>\n",
       "    <tr>\n",
       "      <td>1</td>\n",
       "      <td>com.bumble.app</td>\n",
       "      <td>unknown</td>\n",
       "      <td>transparent</td>\n",
       "      <td>default</td>\n",
       "      <td>unknown</td>\n",
       "      <td>private</td>\n",
       "      <td>unknown</td>\n",
       "      <td>high</td>\n",
       "      <td>low</td>\n",
       "    </tr>\n",
       "    <tr>\n",
       "      <td>2</td>\n",
       "      <td>com.whatsapp</td>\n",
       "      <td>transport</td>\n",
       "      <td>transparent</td>\n",
       "      <td>high</td>\n",
       "      <td>unknown</td>\n",
       "      <td>private</td>\n",
       "      <td>unknown</td>\n",
       "      <td>low</td>\n",
       "      <td>low</td>\n",
       "    </tr>\n",
       "    <tr>\n",
       "      <td>3</td>\n",
       "      <td>com.bskyb.sportnews</td>\n",
       "      <td>unknown</td>\n",
       "      <td>transparent</td>\n",
       "      <td>default</td>\n",
       "      <td>unknown</td>\n",
       "      <td>public</td>\n",
       "      <td>motor sports</td>\n",
       "      <td>low</td>\n",
       "      <td>high</td>\n",
       "    </tr>\n",
       "    <tr>\n",
       "      <td>4</td>\n",
       "      <td>com.google.android.apps.maps</td>\n",
       "      <td>unknown</td>\n",
       "      <td>transparent</td>\n",
       "      <td>default</td>\n",
       "      <td>unknown</td>\n",
       "      <td>private</td>\n",
       "      <td>unknown</td>\n",
       "      <td>low</td>\n",
       "      <td>low</td>\n",
       "    </tr>\n",
       "    <tr>\n",
       "      <td>...</td>\n",
       "      <td>...</td>\n",
       "      <td>...</td>\n",
       "      <td>...</td>\n",
       "      <td>...</td>\n",
       "      <td>...</td>\n",
       "      <td>...</td>\n",
       "      <td>...</td>\n",
       "      <td>...</td>\n",
       "      <td>...</td>\n",
       "    </tr>\n",
       "    <tr>\n",
       "      <td>9307</td>\n",
       "      <td>com.whatsapp</td>\n",
       "      <td>unknown</td>\n",
       "      <td>transparent</td>\n",
       "      <td>default</td>\n",
       "      <td>unknown</td>\n",
       "      <td>private</td>\n",
       "      <td>unknown</td>\n",
       "      <td>moderate</td>\n",
       "      <td>low</td>\n",
       "    </tr>\n",
       "    <tr>\n",
       "      <td>9308</td>\n",
       "      <td>fm.castbox.audiobook.radio.podcast</td>\n",
       "      <td>msg</td>\n",
       "      <td>transparent</td>\n",
       "      <td>high</td>\n",
       "      <td>unknown</td>\n",
       "      <td>private</td>\n",
       "      <td>unknown</td>\n",
       "      <td>low</td>\n",
       "      <td>low</td>\n",
       "    </tr>\n",
       "    <tr>\n",
       "      <td>9309</td>\n",
       "      <td>fm.castbox.audiobook.radio.podcast</td>\n",
       "      <td>unknown</td>\n",
       "      <td>transparent</td>\n",
       "      <td>default</td>\n",
       "      <td>unknown</td>\n",
       "      <td>private</td>\n",
       "      <td>unknown</td>\n",
       "      <td>moderate</td>\n",
       "      <td>low</td>\n",
       "    </tr>\n",
       "    <tr>\n",
       "      <td>9310</td>\n",
       "      <td>com.whatsapp</td>\n",
       "      <td>unknown</td>\n",
       "      <td>transparent</td>\n",
       "      <td>default</td>\n",
       "      <td>unknown</td>\n",
       "      <td>private</td>\n",
       "      <td>unknown</td>\n",
       "      <td>high</td>\n",
       "      <td>low</td>\n",
       "    </tr>\n",
       "    <tr>\n",
       "      <td>9311</td>\n",
       "      <td>com.google.android.calendar</td>\n",
       "      <td>email</td>\n",
       "      <td>transparent</td>\n",
       "      <td>default</td>\n",
       "      <td>unknown</td>\n",
       "      <td>private</td>\n",
       "      <td>unknown</td>\n",
       "      <td>high</td>\n",
       "      <td>low</td>\n",
       "    </tr>\n",
       "  </tbody>\n",
       "</table>\n",
       "<p>9312 rows × 9 columns</p>\n",
       "</div>"
      ],
      "text/plain": [
       "                              appPackage   category      ledARGB priority  \\\n",
       "0                    com.revolut.revolut    service        green      max   \n",
       "1                         com.bumble.app    unknown  transparent  default   \n",
       "2                           com.whatsapp  transport  transparent     high   \n",
       "3                    com.bskyb.sportnews    unknown  transparent  default   \n",
       "4           com.google.android.apps.maps    unknown  transparent  default   \n",
       "...                                  ...        ...          ...      ...   \n",
       "9307                        com.whatsapp    unknown  transparent  default   \n",
       "9308  fm.castbox.audiobook.radio.podcast        msg  transparent     high   \n",
       "9309  fm.castbox.audiobook.radio.podcast    unknown  transparent  default   \n",
       "9310                        com.whatsapp    unknown  transparent  default   \n",
       "9311         com.google.android.calendar      email  transparent  default   \n",
       "\n",
       "         vibrate visibility       subject enticement sentiment  \n",
       "0     0200200200    private       unknown       high      high  \n",
       "1        unknown    private       unknown       high       low  \n",
       "2        unknown    private       unknown        low       low  \n",
       "3        unknown     public  motor sports        low      high  \n",
       "4        unknown    private       unknown        low       low  \n",
       "...          ...        ...           ...        ...       ...  \n",
       "9307     unknown    private       unknown   moderate       low  \n",
       "9308     unknown    private       unknown        low       low  \n",
       "9309     unknown    private       unknown   moderate       low  \n",
       "9310     unknown    private       unknown       high       low  \n",
       "9311     unknown    private       unknown       high       low  \n",
       "\n",
       "[9312 rows x 9 columns]"
      ]
     },
     "execution_count": 28,
     "metadata": {},
     "output_type": "execute_result"
    }
   ],
   "source": [
    "pred.columns=train_notifications.columns\n",
    "pred"
   ]
  },
  {
   "cell_type": "code",
   "execution_count": 29,
   "metadata": {},
   "outputs": [],
   "source": [
    "pred=pd.DataFrame(pred)\n",
    "pred.columns=train_notifications.columns"
   ]
  },
  {
   "cell_type": "code",
   "execution_count": 30,
   "metadata": {},
   "outputs": [
    {
     "name": "stdout",
     "output_type": "stream",
     "text": [
      "evaluating.\n",
      "evaluating..\n",
      "evaluating...\n",
      "evaluating....\n"
     ]
    },
    {
     "data": {
      "text/plain": [
       "<Figure size 432x432 with 0 Axes>"
      ]
     },
     "metadata": {},
     "output_type": "display_data"
    },
    {
     "data": {
      "image/png": "[encoded data removed]",
      "text/plain": [
       "<Figure size 504x504 with 1 Axes>"
      ]
     },
     "metadata": {},
     "output_type": "display_data"
    },
    {
     "data": {
      "image/png": "[encoded data removed]",
      "text/plain": [
       "<Figure size 504x504 with 1 Axes>"
      ]
     },
     "metadata": {},
     "output_type": "display_data"
    },
    {
     "data": {
      "image/png": "[encoded data removed]",
      "text/plain": [
       "<Figure size 504x504 with 1 Axes>"
      ]
     },
     "metadata": {},
     "output_type": "display_data"
    },
    {
     "name": "stdout",
     "output_type": "stream",
     "text": [
      "Results saved here:  /Users/adithya/anaconda3/lib/python3.7/site-packages/gym_push/envs/results/test/task1/\n",
      "Evaluation results:\n",
      "\n",
      " [{'model': 'Adaboost', 'ctr_score': 64.35781786941581}, {'model': 'Decision Tree', 'ctr_score': 63.65979381443299}, {'model': 'Naive Bayes', 'ctr_score': 75.5798969072165}, {'metric': 'diversity_score', 'score': 93.6842105263158}, {'metric': 'enticement_score', 'score': 41.46262886597938}]\n"
     ]
    }
   ],
   "source": [
    "env.evaluate(pred)"
   ]
  }
 ],
 "metadata": {
  "kernelspec": {
   "display_name": "Python 3",
   "language": "python",
   "name": "python3"
  },
  "language_info": {
   "codemirror_mode": {
    "name": "ipython",
    "version": 3
   },
   "file_extension": ".py",
   "mimetype": "text/x-python",
   "name": "python",
   "nbconvert_exporter": "python",
   "pygments_lexer": "ipython3",
   "version": "3.7.4"
  }
 },
 "nbformat": 4,
 "nbformat_minor": 2
}
